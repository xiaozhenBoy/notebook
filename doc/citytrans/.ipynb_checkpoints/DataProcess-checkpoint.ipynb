{
 "metadata": {
  "name": ""
 },
 "nbformat": 3,
 "nbformat_minor": 0,
 "worksheets": [
  {
   "cells": [
    {
     "cell_type": "heading",
     "level": 2,
     "metadata": {},
     "source": [
      "POI Sta & Format\n"
     ]
    },
    {
     "cell_type": "heading",
     "level": 1,
     "metadata": {},
     "source": [
      "CityTrans PreProcessing"
     ]
    },
    {
     "cell_type": "code",
     "collapsed": false,
     "input": [
      "zxu@zxu-oem:~/notebook/notebook/codes/citytrans$ python pio.py sta ../../../dataset/did/season_1/training_data/poi_data/poi_data ../../../dataset/did/season_mid/train/poi/poi.feat.map.txt\n",
      "Statisting Feature ...\n",
      "('Feature Number', 176)\n",
      "\n",
      "zxu@zxu-oem:~/notebook/notebook/codes/citytrans$ python pio.py format ../../../dataset/did/season_1/training_data/poi_data/poi_data ../../../dataset/did/season_mid/train/poi/poi.feat.map.txt ../../../dataset/did/season_1/training_data/cluster_map/cluster_map ../../../dataset/did/season_mid/train/poi/poi.feat.format.txt\n",
      "Loading feat_id and cluster_id ..."
     ],
     "language": "python",
     "metadata": {},
     "outputs": []
    },
    {
     "cell_type": "code",
     "collapsed": false,
     "input": [
      "zxu@zxu-oem:~/notebook/dataset/did/season_1/training_data/traffic_data$ cat traffic_data_2016-01-01 traffic_data_2016-01-02 traffic_data_2016-01-03 traffic_data_2016-01-04 traffic_data_2016-01-05 traffic_data_2016-01-06 traffic_data_2016-01-07 traffic_data_2016-01-08 traffic_data_2016-01-09 traffic_data_2016-01-10 traffic_data_2016-01-11 traffic_data_2016-01-12 traffic_data_2016-01-13 traffic_data_2016-01-14 traffic_data_2016-01-15 traffic_data_2016-01-16 traffic_data_2016-01-17 traffic_data_2016-01-18 traffic_data_2016-01-19 traffic_data_2016-01-20 traffic_data_2016-01-21 > traffic_data\n",
      "\n",
      "zxu@zxu-oem:~/notebook/notebook/codes/citytrans$ python traffic.py ../../../dataset/did/season_1/training_data/traffic_data/traffic_data ../../../dataset/did/season_1/training_data/cluster_map/cluster_map ../../../dataset/did/season_mid/train/traffic/traffic.format.txt\n"
     ],
     "language": "python",
     "metadata": {},
     "outputs": []
    },
    {
     "cell_type": "code",
     "collapsed": false,
     "input": [
      "zxu@zxu-oem:~/notebook/dataset/did/season_1/training_data/weather_data$ cat weather_data_2016-01-01 weather_data_2016-01-02 weather_data_2016-01-03 weather_data_2016-01-04 weather_data_2016-01-05 weather_data_2016-01-06 weather_data_2016-01-07 weather_data_2016-01-08 weather_data_2016-01-09 weather_data_2016-01-10 weather_data_2016-01-11 weather_data_2016-01-12 weather_data_2016-01-13 weather_data_2016-01-14 weather_data_2016-01-15 weather_data_2016-01-16 weather_data_2016-01-17 weather_data_2016-01-18 weather_data_2016-01-19 weather_data_2016-01-20 weather_data_2016-01-21 > weather_data\n",
      "\n",
      "zxu@zxu-oem:~/notebook/notebook/codes/citytrans$ python weather.py ../../../dataset/did/season_1/training_data/weather_data/weather_data ../../../dataset/did/season_mid/train/weather/weather.format.txt\n",
      "format weather\n",
      "    "
     ],
     "language": "python",
     "metadata": {},
     "outputs": []
    },
    {
     "cell_type": "code",
     "collapsed": false,
     "input": [
      "zxu@zxu-oem:~/notebook/dataset/did/season_1/training_data/order_data$ cat order_data_2016-01-01 order_data_2016-01-02 order_data_2016-01-03 order_data_2016-01-04 order_data_2016-01-05 order_data_2016-01-06 order_data_2016-01-07 order_data_2016-01-08 order_data_2016-01-09 order_data_2016-01-10 order_data_2016-01-11 order_data_2016-01-12 order_data_2016-01-13 order_data_2016-01-14 order_data_2016-01-15 order_data_2016-01-16 order_data_2016-01-17 order_data_2016-01-18 order_data_2016-01-19 order_data_2016-01-20 order_data_2016-01-21 > order_data\n",
      "\n"
     ],
     "language": "python",
     "metadata": {},
     "outputs": []
    },
    {
     "cell_type": "code",
     "collapsed": false,
     "input": [
      "zxu@zxu-oem:~/notebook/dataset/did/season_1/test_set_1/traffic_data$ cat traffic_data_2016-01-22_test traffic_data_2016-01-24_test traffic_data_2016-01-26_test traffic_data_2016-01-28_test traffic_data_2016-01-30_test > traffic_data_test\n",
      "zxu@zxu-oem:~/notebook/dataset/did/season_1/test_set_1/traffic_data$ cd ..\n",
      "zxu@zxu-oem:~/notebook/dataset/did/season_1/test_set_1$ cd weather_data/\n",
      "zxu@zxu-oem:~/notebook/dataset/did/season_1/test_set_1/weather_data$ cat weather_data_2016-01-22_test weather_data_2016-01-24_test weather_data_2016-01-26_test weather_data_2016-01-28_test weather_data_2016-01-30_test > weather_data_test\n"
     ],
     "language": "python",
     "metadata": {},
     "outputs": []
    },
    {
     "cell_type": "code",
     "collapsed": false,
     "input": [
      "zxu@zxu-oem:~/notebook/notebook/codes/citytrans$ python combineFeature.py ../../../dataset/did/season_mid/train/poi/poi.feat.format.txt ../../../dataset/did/season_mid/train/weather/weather.format.txt ../../../dataset/did/season_mid/train/traffic/traffic.format.txt ../../../dataset/did/season_mid/train/order/order.req.ans.gap.txt ../../../dataset/did/season_mid/train/all.feats.txt\n",
      "Loading poi ...\n",
      "Loading weather ...\n",
      "Loading traffic ...\n",
      "30285"
     ],
     "language": "python",
     "metadata": {},
     "outputs": []
    },
    {
     "cell_type": "code",
     "collapsed": false,
     "input": [
      "In [1]: import numpy as np\n",
      "\n",
      "In [2]: ls\n",
      "all.feats.txt  order/  poi/  traffic/  weather/\n",
      "\n",
      "In [3]: import sklearn\n",
      "\n",
      "In [4]: train_x = np.loadtxt('all.feats.txt')\n",
      "\n",
      "In [5]: train_x.shape\n",
      "Out[5]: (170685, 187)\n",
      "\n",
      "In [6]: train_x.dtype\n",
      "Out[6]: dtype('float64')\n",
      "\n",
      "In [7]: x = train_x[:, 1:]\n",
      "\n",
      "In [8]: x.shape\n",
      "Out[8]: (170685, 186)\n",
      "\n",
      "In [9]: y = train_x[:, 0]\n",
      "\n",
      "In [10]: y.shape\n",
      "Out[10]: (170685,)\n",
      "\n",
      "In [12]: from sklearn import preprocessing \n",
      "\n",
      "In [13]: x = preprocessing.normalize(x, axis=0)\n",
      "\n",
      "In [14]: idxs = range(170685)\n",
      "\n",
      "In [16]: import random\n",
      "\n",
      "In [17]: random.shuffle(idxs)\n",
      "\n",
      "In [19]: test_idx = random.sample(idxs, int(170685*0.05))\n",
      "\n",
      "In [21]: train_idx = list(set(idxs) - set(test_idx))\n",
      "\n",
      "In [22]: len(trian_idx)\n",
      "\n",
      "In [27]: from sklearn.ensemble import RandomForestRegressor\n",
      "\n",
      "In [28]: regtool = RandomForestRegressor(n_estimators=100, max_depth=10)\n",
      "\n",
      "In [29]: regtool.fit(x[train_idx], y[train_idx])\n",
      "Out[29]: \n",
      "RandomForestRegressor(bootstrap=True, criterion='mse', max_depth=10,\n",
      "           max_features='auto', max_leaf_nodes=None, min_samples_leaf=1,\n",
      "           min_samples_split=2, min_weight_fraction_leaf=0.0,\n",
      "           n_estimators=100, n_jobs=1, oob_score=False, random_state=None,\n",
      "           verbose=0, warm_start=False)\n",
      "\n",
      "In [30]: test_y_pre = regtool.predict(x[test_idx])\n",
      "\n",
      "In [31]: test_y = y[test_idx]\n",
      "\n"
     ],
     "language": "python",
     "metadata": {},
     "outputs": []
    },
    {
     "cell_type": "code",
     "collapsed": false,
     "input": [
      "zxu@zxu-oem:~/notebook/notebook/codes/citytrans$ python traffic.py ../../../dataset/did/season_1/test_set_1/traffic_data/traffic_data_test ../../../dataset/did/season_1/training_data/cluster_map/cluster_map ../../../dataset/did/season_mid/test/traffic/traffic.format.txt\n",
      "format traffice\n",
      "zxu@zxu-oem:~/notebook/notebook/codes/citytrans$ python weather.py ../../../dataset/did/season_1/test_set_1/weather_data/weather_data_test ../../../dataset/did/season_mid/test/weather/weather.format.txt\n",
      "format weather\n",
      "zxu@zxu-oem:~/notebook/notebook/codes/citytrans$ python combineFeatureTest.py ../../../dataset/did/season_mid/train/poi/poi.feat.format.txt ../../../dataset/did/season_mid/test/weather/weather.format.txt ../../../dataset/did/season_mid/test/traffic/traffic.format.txt ../../../dataset/did/season_1/test_set_1/read_me_1.txt ../../../dataset/did/season_mid/train/test.feats.txt\n",
      "Loading poi ...\n",
      "Loading weather ...\n",
      "Loading traffic ...\n",
      "2838\n",
      "\n",
      "zxu@zxu-oem:~/notebook/notebook/codes/citytrans$ python format_result.py ../../../dataset/did/season_1/test_set_1/read_me_1.txt ../../../dataset/did/season_mid/test/pre_gap.txt ../../../dataset/did/season_mid/test.final.res.txt\n"
     ],
     "language": "python",
     "metadata": {},
     "outputs": []
    },
    {
     "cell_type": "code",
     "collapsed": false,
     "input": [
      "In [1]: import numpy as np\n",
      "\n",
      "In [2]: train_x = np.loadtxt('all.feats.txt')\n",
      "\n",
      "In [3]: test = np.loadtxt('../test/test.feats.txt')\n",
      "\n",
      "In [4]: train = train_x\n",
      "\n",
      "In [5]: train_x = train[:, 1:]\n",
      "\n",
      "In [6]: train_y = train[:, 0]\n",
      "\n",
      "In [7]: train_x.shape\n",
      "Out[7]: (170685, 186)\n",
      "\n",
      "In [8]: train_y.shape\n",
      "Out[8]: (170685,)\n",
      "\n",
      "In [9]: test.shape\n",
      "Out[9]: (2838, 186)\n",
      "\n",
      "In [10]: from sklearn import preprocessing\n",
      "\n",
      "In [11]: min_max_scaler = preprocessing.MinMaxScaler()\n",
      "\n",
      "In [12]: min_max_scaler.fit(train_x)\n",
      "Out[12]: MinMaxScaler(copy=True, feature_range=(0, 1))\n",
      "\n",
      "In [13]: train_x_scaler = min_max_scaler.transform(train_x)\n",
      "\n",
      "In [14]: test_scaler = min_max_scaler.transform(test)\n",
      "\n",
      "In [15]: from sklearn.ensemble import RandomForestRegressor\n",
      "\n",
      "In [16]: regtool = RandomForestRegressor(n_estimators=100, max_depth=10)\n",
      "\n",
      "In [17]: regtool.fit(train_x_scaler, train_y)\n",
      "Out[17]: \n",
      "RandomForestRegressor(bootstrap=True, criterion='mse', max_depth=10,\n",
      "           max_features='auto', max_leaf_nodes=None, min_samples_leaf=1,\n",
      "           min_samples_split=2, min_weight_fraction_leaf=0.0,\n",
      "           n_estimators=100, n_jobs=1, oob_score=False, random_state=None,\n",
      "           verbose=0, warm_start=False)\n",
      "\n",
      "In [18]: test_y_pre = regtool.predict(test_scaler)\n",
      "\n",
      "In [19]: fout = open('../test/pre_gap.txt', 'w')\n",
      "\n",
      "In [20]: test_y_pre.shape\n",
      "Out[20]: (2838,)\n",
      "\n",
      "In [21]: for val in test_y_pre:\n",
      "   ....:     fout.write('%0.6f\\n' % val)\n",
      "   ....:     \n",
      "\n",
      "In [22]: fout.close()\n"
     ],
     "language": "python",
     "metadata": {},
     "outputs": []
    },
    {
     "cell_type": "code",
     "collapsed": false,
     "input": [
      "zxu@zxu-oem:~/notebook/notebook/codes/citytrans$ python order_ana.py ../../../dataset/did/season_mid/train/order/order.simple.feat.txt ../../../dataset/did/season_mid/train/order/order.dest.dist.txt\n",
      "Processing: 7190454\n",
      "\n",
      "zxu@zxu-oem:~/notebook/notebook/codes/citytrans$ python order_feat.py ../../../dataset/did/season_1/training_data/order_data/order_data ../../../dataset/did/season_1/training_data/cluster_map/cluster_map ../../../dataset/did/season_mid/train/order/order.simple.feat.all.txt\n",
      "Loading distinct_id ...\n",
      "Processing: 8540614\n",
      "\n",
      "zxu@zxu-oem:~/notebook/notebook/codes/citytrans$ python order_feat.py ../../../dataset/did/season_1/test_set_1/order_data/order_data_test ../../../dataset/did/season_1/test_set_1/cluster_map/cluster_map ../../../dataset/did/season_mid/test/order/order.simple.feat.all.txt\n",
      "Loading distinct_id ...\n",
      "Processing: 557985\n",
      "\n",
      "python order_ana.py ../../../dataset/did/season_mid/train/order/order.simple.feat.all.txt ../../../dataset/did/season_mid/train/order/order.req.ans.all.txt\n",
      "python order_ana.py ../../../dataset/did/season_mid/test/order/order.simple.feat.all.txt ../../../dataset/did/season_mid/test/order/order.req.ans.all.txt\n",
      "zxu@zxu-oem:~/notebook/notebook/codes/citytrans$ python order_ana.py ../../../dataset/did/season_mid/train/order/order.simple.feat.all.txt ../../../dataset/did/season_mid/train/order/order.arrival.all.txt\n",
      "zxu@zxu-oem:~/notebook/notebook/codes/citytrans$ python order_ana.py ../../../dataset/did/season_mid/test/order/order.simple.feat.all.txt ../../../dataset/did/season_mid/test/order/order.arrival.all.txt\n",
      "    \n",
      "zxu@zxu-oem:~/notebook/notebook/codes/citytrans$ python combineFeature0.py ../../../dataset/did/season_mid/train/poi/poi.feat.format.txt ../../../dataset/did/season_mid/train/weather/weather.format.txt ../../../dataset/did/season_mid/train/traffic/traffic.format.txt ../../../dataset/did/season_mid/train/order/order.arrival.all.txt ../../../dataset/did/season_mid/train/order/order.req.ans.all.txt ../../../dataset/did/season_mid/train/all.feats.new.txt\n",
      "Loading poi ...\n",
      "Loading weather ...\n",
      "Loading traffic ...\n",
      "Loading order...\n",
      "Loading order arr ...\n",
      "32430\n",
      "\n",
      "zxu@zxu-oem:~/notebook/notebook/codes/citytrans$ python train.py ../../../dataset/did/season_mid/train/all.feats.new.txt ../../../dataset/did/season_mid/test/test.feats.arr.txt ../../../dataset/did/season_mid/test/test.arr.result.txt\n",
      "(168540, 224) (168540,)\n",
      "(2838, 224)\n",
      "\n",
      "zxu@zxu-oem:~/notebook/notebook/codes/citytrans$ python format_result.py ../../../dataset/did/season_1/test_set_1/read_me_1.txt ../../../dataset/did/season_mid/test/test.arr.result.txt ../../../dataset/did/season_mid/test/test.arr.final.result.txt\n"
     ],
     "language": "python",
     "metadata": {},
     "outputs": []
    }
   ],
   "metadata": {}
  }
 ]
}