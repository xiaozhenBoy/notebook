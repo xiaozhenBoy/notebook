{
 "metadata": {
  "name": ""
 },
 "nbformat": 3,
 "nbformat_minor": 0,
 "worksheets": [
  {
   "cells": [
    {
     "cell_type": "code",
     "collapsed": false,
     "input": [
      "from keras.layers import Input, LSTM, RepeatVector\n",
      "from keras.models import Model\n",
      "\n",
      "from keras.datasets import mnist\n",
      "import numpy as np\n",
      "\n",
      "# \n",
      "timesteps = 30\n",
      "input_dim = 50\n",
      "latent_dim = 50\n",
      "\n",
      "inputs = Input(shape=(timesteps, input_dim))\n",
      "encode = LSTM(latent_dim)(inputs)\n",
      "\n",
      "repeat_layer = RepeatVector(timesteps)(encode)\n",
      "decode = LSTM(vocab_size, return_sequence=True)(repeat_layer)\n",
      "\n",
      "s2s = Model(inputs, decode)\n",
      "\n",
      "encoder_model = Model(inputs, encode)\n"
     ],
     "language": "python",
     "metadata": {},
     "outputs": []
    }
   ],
   "metadata": {}
  }
 ]
}