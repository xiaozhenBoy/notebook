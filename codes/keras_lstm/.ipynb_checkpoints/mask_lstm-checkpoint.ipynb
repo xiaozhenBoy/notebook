{
 "metadata": {
  "name": ""
 },
 "nbformat": 3,
 "nbformat_minor": 0,
 "worksheets": [
  {
   "cells": [
    {
     "cell_type": "code",
     "collapsed": false,
     "input": [
      "\"\"\"\n",
      "With Mask_Zero\n",
      "\"\"\"\n",
      "from __future__ import print_function\n",
      "import numpy as np\n",
      "np.random.seed(1337)  # for reproducibility\n",
      "\n",
      "from keras.preprocessing import sequence\n",
      "from keras.models import Model\n",
      "from keras.layers import Dense, Dropout, Embedding, LSTM, Input, merge\n",
      "from keras.datasets import imdb\n",
      "\n",
      "\n",
      "max_features = 20000\n",
      "maxlen = 100  # cut texts after this number of words (among top max_features most common words)\n",
      "batch_size = 32\n",
      "\n",
      "print('Loading data...')\n",
      "(X_train, y_train), (X_test, y_test) = imdb.load_data(nb_words=max_features,\n",
      "                                                      test_split=0.2)\n",
      "print(len(X_train), 'train sequences')\n",
      "print(len(X_test), 'test sequences')\n",
      "\n",
      "train_lens = [len(seq) for seq in X_train]\n",
      "print(max(train_lens), min(train_lens)) # print(train_lens[:200]) 195\n",
      "test_lens = [len(seq) for seq in X_test] # print(test_lens[:100]) 96 98\n",
      "\n",
      "print(\"Pad sequences (samples x time)\")\n",
      "X_train = sequence.pad_sequences(X_train, maxlen=maxlen)\n",
      "X_test = sequence.pad_sequences(X_test, maxlen=maxlen)\n",
      "print('X_train shape:', X_train.shape)\n",
      "print('X_test shape:', X_test.shape)\n",
      "y_train = np.array(y_train)\n",
      "y_test = np.array(y_test)\n",
      "\n",
      "print(X_train[195, :])\n",
      "# this is the placeholder tensor for the input sequences\n",
      "sequence = Input(shape=(maxlen,), dtype='int32')\n",
      "# this embedding layer will transform the sequences of integers\n",
      "# into vectors of size 128\n",
      "embedded = Embedding(max_features, 128, input_length=maxlen, mask_zero=True)(sequence)\n",
      "embed_model = Model(sequence, embedded)\n",
      "\n",
      "# apply forwards LSTM\n",
      "forwards = LSTM(64, return_sequences=True, consume_less='cpu')(embedded)\n",
      "forward_model = Model(sequence, forwards)\n",
      "\n",
      "print('Train...')\n",
      "\n",
      "test_embed = embed_model.predict(X_test[96:99, :])\n",
      "print(test_embed.shape)\n",
      "print(test_embed[0])\n",
      "\n",
      "lstm_out = forward_model.predict(X_test[96:99, :])\n",
      "print(lstm_out.shape)\n",
      "print(lstm_out[0])\n",
      "# model.fit(X_train, y_train,\n",
      "#           batch_size=batch_size,\n",
      "#           nb_epoch=4,\n",
      "#           validation_data=[X_test, y_test])\n"
     ],
     "language": "python",
     "metadata": {},
     "outputs": [
      {
       "output_type": "stream",
       "stream": "stdout",
       "text": [
        "Loading data...\n",
        "20000"
       ]
      },
      {
       "output_type": "stream",
       "stream": "stdout",
       "text": [
        " train sequences\n",
        "5000 test sequences\n",
        "2821 12\n",
        "Pad sequences (samples x time)\n",
        "X_train shape:"
       ]
      },
      {
       "output_type": "stream",
       "stream": "stdout",
       "text": [
        " (20000, 100)\n",
        "X_test shape: (5000, 100)\n",
        "[    0     0     0     0     0     0     0     0     0     0     0     0\n",
        "     0     0     0     0     0     0     0     0     0     0     0     0\n",
        "     0     0     0     0     0     0     0     0     0     0     0     0\n",
        "     0     0     0     0     0     0     0     0     0     0     0     0\n",
        "     0     0     0     0     0     0     0     0     0     0     0     0\n",
        "     0     0     0     1    19   222    20    24     9  1837    65    28\n",
        "     7    17    24   268    11   124    17     7    62    19   439   137\n",
        "   135     5    54 13161    54    45     5   150    10     5    28     7\n",
        "    46    85   103     7]\n",
        "Train..."
       ]
      },
      {
       "output_type": "stream",
       "stream": "stdout",
       "text": [
        "\n",
        "(3, 100, 128)\n",
        "[[-0.03555565 -0.04447578  0.01578083 ..., -0.02137198  0.03036203\n",
        "  -0.04453047]\n",
        " [-0.03555565 -0.04447578  0.01578083 ..., -0.02137198  0.03036203\n",
        "  -0.04453047]\n",
        " [-0.03555565 -0.04447578  0.01578083 ..., -0.02137198  0.03036203\n",
        "  -0.04453047]\n",
        " ..., \n",
        " [-0.04466408  0.03963215  0.02239767 ..., -0.04019757  0.0348017\n",
        "  -0.02024703]\n",
        " [ 0.04026139 -0.0270953  -0.03145045 ..., -0.00892644  0.00827345\n",
        "  -0.01385744]\n",
        " [-0.0195511  -0.03576351  0.00783983 ...,  0.01987031  0.04434057\n",
        "  -0.01000852]]\n",
        "(3, 100, 64)"
       ]
      },
      {
       "output_type": "stream",
       "stream": "stdout",
       "text": [
        "\n",
        "[[ 0.          0.          0.         ...,  0.          0.          0.        ]\n",
        " [ 0.          0.          0.         ...,  0.          0.          0.        ]\n",
        " [ 0.          0.          0.         ...,  0.          0.          0.        ]\n",
        " ..., \n",
        " [ 0.0278473  -0.01948711  0.02100169 ...,  0.0311052  -0.00654354\n",
        "  -0.01918537]\n",
        " [ 0.03829424 -0.00272508  0.01953414 ...,  0.03069483 -0.01060766\n",
        "  -0.01534493]\n",
        " [ 0.03242023 -0.00991035  0.01405994 ...,  0.03226368 -0.0180881\n",
        "  -0.02978934]]\n"
       ]
      }
     ],
     "prompt_number": 12
    },
    {
     "cell_type": "code",
     "collapsed": false,
     "input": [
      "\"\"\"\n",
      "without mask_zero\n",
      "\"\"\"\n",
      "from __future__ import print_function\n",
      "import numpy as np\n",
      "np.random.seed(1337)  # for reproducibility\n",
      "\n",
      "from keras.preprocessing import sequence\n",
      "from keras.models import Model\n",
      "from keras.layers import Dense, Dropout, Embedding, LSTM, Input, merge\n",
      "from keras.datasets import imdb\n",
      "\n",
      "\n",
      "max_features = 20000\n",
      "maxlen = 100  # cut texts after this number of words (among top max_features most common words)\n",
      "batch_size = 32\n",
      "\n",
      "print('Loading data...')\n",
      "(X_train, y_train), (X_test, y_test) = imdb.load_data(nb_words=max_features,\n",
      "                                                      test_split=0.2)\n",
      "print(len(X_train), 'train sequences')\n",
      "print(len(X_test), 'test sequences')\n",
      "\n",
      "train_lens = [len(seq) for seq in X_train]\n",
      "print('Training data len', max(train_lens), min(train_lens), sum(train_lens)*1./len(train_lens)) # print(train_lens[:200]) 195\n",
      "test_lens = [len(seq) for seq in X_test] # print(test_lens[:100]) 96 98\n",
      "\n",
      "print(\"Pad sequences (samples x time)\")\n",
      "X_train = sequence.pad_sequences(X_train, maxlen=maxlen)\n",
      "X_test = sequence.pad_sequences(X_test, maxlen=maxlen)\n",
      "print('X_train shape:', X_train.shape)\n",
      "print('X_test shape:', X_test.shape)\n",
      "y_train = np.array(y_train)\n",
      "y_test = np.array(y_test)\n",
      "\n",
      "print(X_train[195, :])\n",
      "# this is the placeholder tensor for the input sequences\n",
      "sequence = Input(shape=(maxlen,), dtype='int32')\n",
      "# this embedding layer will transform the sequences of integers\n",
      "# into vectors of size 128\n",
      "embedded = Embedding(max_features, 128, input_length=maxlen, mask_zero=False)(sequence)\n",
      "embed_model = Model(sequence, embedded)\n",
      "\n",
      "# apply forwards LSTM\n",
      "forwards = LSTM(64, return_sequences=True, consume_less='cpu')(embedded)\n",
      "forward_model = Model(sequence, forwards)\n",
      "\n",
      "print('Train...')\n",
      "\n",
      "test_embed = embed_model.predict(X_test[96:99, :])\n",
      "print(test_embed.shape)\n",
      "print(test_embed[0])\n",
      "\n",
      "lstm_out = forward_model.predict(X_test[96:99, :])\n",
      "print(lstm_out.shape)\n",
      "print(lstm_out[0])"
     ],
     "language": "python",
     "metadata": {},
     "outputs": [
      {
       "output_type": "stream",
       "stream": "stdout",
       "text": [
        "Loading data...\n",
        "20000"
       ]
      },
      {
       "output_type": "stream",
       "stream": "stdout",
       "text": [
        " train sequences\n",
        "5000 test sequences\n",
        "Training data len 2821 12 285.62885\n",
        "Pad sequences (samples x time)\n",
        "X_train shape:"
       ]
      },
      {
       "output_type": "stream",
       "stream": "stdout",
       "text": [
        " (20000, 100)\n",
        "X_test shape: (5000, 100)\n",
        "[    0     0     0     0     0     0     0     0     0     0     0     0\n",
        "     0     0     0     0     0     0     0     0     0     0     0     0\n",
        "     0     0     0     0     0     0     0     0     0     0     0     0\n",
        "     0     0     0     0     0     0     0     0     0     0     0     0\n",
        "     0     0     0     0     0     0     0     0     0     0     0     0\n",
        "     0     0     0     1    19   222    20    24     9  1837    65    28\n",
        "     7    17    24   268    11   124    17     7    62    19   439   137\n",
        "   135     5    54 13161    54    45     5   150    10     5    28     7\n",
        "    46    85   103     7]\n",
        "Train..."
       ]
      },
      {
       "output_type": "stream",
       "stream": "stdout",
       "text": [
        "\n",
        "(3, 100, 128)\n",
        "[[-0.03555565 -0.04447578  0.01578083 ..., -0.02137198  0.03036203\n",
        "  -0.04453047]\n",
        " [-0.03555565 -0.04447578  0.01578083 ..., -0.02137198  0.03036203\n",
        "  -0.04453047]\n",
        " [-0.03555565 -0.04447578  0.01578083 ..., -0.02137198  0.03036203\n",
        "  -0.04453047]\n",
        " ..., \n",
        " [-0.04466408  0.03963215  0.02239767 ..., -0.04019757  0.0348017\n",
        "  -0.02024703]\n",
        " [ 0.04026139 -0.0270953  -0.03145045 ..., -0.00892644  0.00827345\n",
        "  -0.01385744]\n",
        " [-0.0195511  -0.03576351  0.00783983 ...,  0.01987031  0.04434057\n",
        "  -0.01000852]]\n",
        "(3, 100, 64)"
       ]
      },
      {
       "output_type": "stream",
       "stream": "stdout",
       "text": [
        "\n",
        "[[ 0.00472096  0.00107548  0.0143424  ...,  0.00842269 -0.00614788\n",
        "  -0.00191042]\n",
        " [ 0.00772884  0.00119081  0.02473718 ...,  0.01392287 -0.00681473\n",
        "  -0.00421485]\n",
        " [ 0.00913672  0.00096131  0.03179772 ...,  0.01816852 -0.00531806\n",
        "  -0.00658711]\n",
        " ..., \n",
        " [ 0.01787721 -0.02249668  0.02869129 ...,  0.01730848 -0.01549304\n",
        "  -0.01543154]\n",
        " [ 0.02868066 -0.00584483  0.02747832 ...,  0.01727971 -0.01937122\n",
        "  -0.01191639]\n",
        " [ 0.02294612 -0.0132789   0.02201087 ...,  0.01957193 -0.02642708\n",
        "  -0.02655196]]\n"
       ]
      }
     ],
     "prompt_number": 14
    },
    {
     "cell_type": "code",
     "collapsed": false,
     "input": [],
     "language": "python",
     "metadata": {},
     "outputs": []
    }
   ],
   "metadata": {}
  }
 ]
}