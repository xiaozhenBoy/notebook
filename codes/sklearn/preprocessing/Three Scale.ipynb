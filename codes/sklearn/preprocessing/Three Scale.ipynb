{
 "metadata": {
  "name": ""
 },
 "nbformat": 3,
 "nbformat_minor": 0,
 "worksheets": [
  {
   "cells": [
    {
     "cell_type": "code",
     "collapsed": false,
     "input": [
      "\"\"\"\n",
      "According mean and unit variance, to scale data to Standard Gaussian\n",
      "\n",
      "preprocessing.scale(x, axis=0)\n",
      "axis=0 means scale on each feature(column)\n",
      "axis=1 means scale on each sample(row)\n",
      "default axis=0\n",
      "\"\"\"\n",
      "from sklearn import preprocessing\n",
      "import numpy as np\n",
      "\n",
      "X = np.array([[ 1., -1.,  2.],\n",
      "[ 2.,  0.,  0.],\n",
      "[ 0.,  1., -1.]])\n",
      "\n",
      "X_scaled = preprocessing.scale(X)\n",
      "\n",
      "X_scaled.mean(axis=0)\n",
      "\n",
      "X_scaled.std(axis=0)\n",
      "\n",
      "X_scaled = preprocessing.scale(X)"
     ],
     "language": "python",
     "metadata": {},
     "outputs": [],
     "prompt_number": 9
    },
    {
     "cell_type": "code",
     "collapsed": false,
     "input": [
      "\"\"\"\n",
      "Class StandardScaler that implements the Transformer API to compute the mean and standard deviation on a training set \n",
      "so as to be able to later reapply the same transformation on the testing set. \n",
      "\"\"\"\n",
      "from sklearn import preprocessing\n",
      "\n",
      "X = np.array([[ 1., -1.,  2.],\n",
      "[ 2.,  0.,  0.],\n",
      "[ 0.,  1., -1.]])\n",
      "\n",
      "scaler = preprocessing.StandardScaler()\n",
      "\n",
      "scaler.fit(X)\n",
      "\n",
      "scaler.transform(X)"
     ],
     "language": "python",
     "metadata": {},
     "outputs": [
      {
       "metadata": {},
       "output_type": "pyout",
       "prompt_number": 3,
       "text": [
        "array([[ 0.        , -1.22474487,  1.33630621],\n",
        "       [ 1.22474487,  0.        , -0.26726124],\n",
        "       [-1.22474487,  1.22474487, -1.06904497]])"
       ]
      }
     ],
     "prompt_number": 3
    },
    {
     "cell_type": "raw",
     "metadata": {},
     "source": [
      "Above is scale by Gaussian Distribution.\n",
      "The following is scale data to a range."
     ]
    },
    {
     "cell_type": "code",
     "collapsed": false,
     "input": [
      "\"\"\"\n",
      "An alternative standardization is scaling features to lie between a given minimum and maximum value, \n",
      "often between zero and one, or so that the maximum absolute value of each feature is scaled to unit size. \n",
      "This can be achieved using MinMaxScaler or MaxAbsScaler, respectively.\n",
      "feature_range=(min, max)\n",
      "\"\"\"\n",
      "min_max_scaler = preprocessing.MinMaxScaler()\n",
      "X_train_minmax = min_max_scaler.fit_transform(X_train)"
     ],
     "language": "python",
     "metadata": {},
     "outputs": []
    }
   ],
   "metadata": {}
  }
 ]
}